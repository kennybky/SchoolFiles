{
 "cells": [
  {
   "cell_type": "code",
   "execution_count": 7,
   "metadata": {},
   "outputs": [],
   "source": [
    "import cv2\n",
    "import os\n",
    "import numpy as np\n",
    "from random import shuffle\n",
    "import imutils #need to install this with pip\n",
    "import matplotlib.pyplot as plt\n",
    "from skimage import data, color, exposure\n",
    "from sklearn import svm\n",
    "import data_generator as dg\n",
    "from sklearn.metrics import classification_report\n",
    "from sklearn.metrics import confusion_matrix\n",
    "%matplotlib inline"
   ]
  },
  {
   "cell_type": "code",
   "execution_count": 14,
   "metadata": {},
   "outputs": [
    {
     "name": "stdout",
     "output_type": "stream",
     "text": [
      "0 positive images\n"
     ]
    }
   ],
   "source": [
    "\n",
    "#get positive images, determine best ratios (rows over columns), assign to images\n",
    "def remove_red(img):\n",
    "    img[:,:,2] = 0\n",
    "    return img\n",
    "\n",
    "pimages = dg.getImagesFromJSON(open(\"labels.json\").read())\n",
    "pimages = [remove_red(x) for x in pimages]\n",
    "print(len(pimages), \"positive images\")"
   ]
  },
  {
   "cell_type": "code",
   "execution_count": 13,
   "metadata": {},
   "outputs": [
    {
     "name": "stdout",
     "output_type": "stream",
     "text": [
      "400 negative images\n"
     ]
    }
   ],
   "source": [
    "\n",
    "#get negative images, use ratios found for positive images to match\n",
    "nimages = dg.getRandomMultiple(\"sign_detection/sun_images\", 200, 0)\n",
    "partialsignimgs = dg.getRandomMultiple(\"sign_detection/partial\", 200, 0)\n",
    "nimages = nimages+partialsignimgs\n",
    "nimages = [x[1] for x in nimages]\n",
    "\n",
    "print(len(nimages), \"negative images\")"
   ]
  },
  {
   "cell_type": "code",
   "execution_count": null,
   "metadata": {
    "collapsed": true
   },
   "outputs": [],
   "source": []
  }
 ],
 "metadata": {
  "kernelspec": {
   "display_name": "Python 3",
   "language": "python",
   "name": "python3"
  },
  "language_info": {
   "codemirror_mode": {
    "name": "ipython",
    "version": 3
   },
   "file_extension": ".py",
   "mimetype": "text/x-python",
   "name": "python",
   "nbconvert_exporter": "python",
   "pygments_lexer": "ipython3",
   "version": "3.6.3"
  }
 },
 "nbformat": 4,
 "nbformat_minor": 2
}
